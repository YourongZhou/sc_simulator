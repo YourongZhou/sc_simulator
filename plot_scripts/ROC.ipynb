{
 "cells": [
  {
   "cell_type": "code",
   "execution_count": 1,
   "id": "a0bf300a",
   "metadata": {},
   "outputs": [],
   "source": [
    "import numpy as np \n",
    "import scanpy as sc\n",
    "import pandas as pd\n",
    "import matplotlib.pyplot as plt \n",
    "import itertools\n",
    "import scprep\n",
    "from sklearn.metrics import adjusted_rand_score as ari\n",
    "from anticor_features.anticor_features import get_anti_cor_genes\n",
    "import singleCellHaystack as hs\n",
    "import giniclust3 as gc\n",
    "from SEMITONES.cell_selection import from_knn_dist\n",
    "from SEMITONES.enrichment_scoring import calculate_escores\n",
    "from SEMITONES.enrichment_scoring import permute\n",
    "from SEMITONES.enrichment_scoring import sig_interval\n",
    "from SEMITONES.support_funcs import pairwise_similarities\n",
    "from SEMITONES.support_funcs import sig_dictionary\n",
    "from sklearn.metrics.pairwise import pairwise_kernels\n",
    "from sklearn.metrics import roc_curve, auc"
   ]
  },
  {
   "cell_type": "code",
   "execution_count": null,
   "id": "763ef16b",
   "metadata": {},
   "outputs": [],
   "source": [
    "# test data\n",
    "adata = sc.read_h5ad('Tamer_benchmark/simulation/tamer.h5ad')\n",
    "adata_raw = sc.read_h5ad('Tamer_benchmark/simulation/tamer_raw.h5ad')\n",
    "adata_test = adata_raw[:,0:1300].copy()"
   ]
  },
  {
   "cell_type": "code",
   "execution_count": 2,
   "id": "d015de3d",
   "metadata": {},
   "outputs": [],
   "source": [
    "def dimension_reduce(adata):\n",
    "    sc.tl.pca(adata, svd_solver='arpack')\n",
    "    sc.pp.neighbors(adata, n_neighbors=20, n_pcs=20)\n",
    "    return adata"
   ]
  },
  {
   "cell_type": "code",
   "execution_count": 35,
   "id": "4c6a8db8",
   "metadata": {},
   "outputs": [],
   "source": [
    "def ROC(label, result):\n",
    "    fpr, tpr, thresholds = roc_curve(label, result)\n",
    "    roc_auc = auc(fpr, tpr)\n",
    "\n",
    "    plt.figure(figsize=(6, 6))\n",
    "    plt.plot(fpr, tpr, color='darkorange', lw=2, label='ROC curve (AUC = %0.2f)' % roc_auc)\n",
    "    plt.axis('off') \n",
    "    for spine in plt.gca().spines.values():\n",
    "        spine.set_visible(False)\n",
    "    plt.show()\n",
    "    print(f\"AUC值为: {roc_auc:.4f}\")"
   ]
  },
  {
   "cell_type": "code",
   "execution_count": 36,
   "id": "4184c901",
   "metadata": {},
   "outputs": [],
   "source": [
    "def ROC(label, result):\n",
    "    colors = ['darkorange', 'green', 'red', 'blue']\n",
    "    names = ['Anti-correlation', 'Gini', 'schaystack', 'Semitones']\n",
    "\n",
    "    plt.figure(figsize=(8, 8))\n",
    "    for i, (prob, name, color) in enumerate(zip(result, names, colors)):\n",
    "        fpr, tpr, _ = roc_curve(label, prob)\n",
    "        roc_auc = auc(fpr, tpr)\n",
    "        plt.plot(\n",
    "            fpr, tpr, \n",
    "            color=color, \n",
    "            lw=2, \n",
    "            label=f'{name} (AUC = {roc_auc:.3f})'\n",
    "        )\n",
    "\n",
    "    plt.axis('off')\n",
    "    for spine in plt.gca().spines.values():\n",
    "        spine.set_visible(False)\n",
    "\n",
    "    plt.legend(\n",
    "        loc='lower right', \n",
    "        frameon=True, \n",
    "        fontsize=10, \n",
    "        edgecolor='black'\n",
    "    )\n",
    "\n",
    "    plt.tight_layout()\n",
    "    plt.show()\n",
    "\n",
    "    for i, (prob, name) in enumerate(zip(result, names)):\n",
    "        fpr, tpr, _ = roc_curve(label, prob)\n",
    "        roc_auc = auc(fpr, tpr)\n",
    "        print(f\"{name}: AUC = {roc_auc:.4f}\")"
   ]
  },
  {
   "cell_type": "code",
   "execution_count": 37,
   "id": "1155e212",
   "metadata": {},
   "outputs": [
    {
     "name": "stdout",
     "output_type": "stream",
     "text": [
      "anti\n",
      "found 3809.66719488 free Gb in /tmp\n",
      "get_all_remove_genes\n",
      "8400 420\n",
      "min_express_n 50\n",
      "get_n_expressed\n",
      "pre_remove_feature: 0\n",
      "pre_remove_pathway: 0\n",
      "pre_remove_low_express: 0\n",
      "0  genes to remove out of  1300\n",
      "rewriting the filtered dataset\n",
      "/tmp/exprs.hdf5\n",
      "total_vars: 1300\n",
      "making the hdf5 spearman output file\n",
      "/tmp/spearman.hdf5\n",
      "get_the_spears\n",
      "total_vars 1300\n",
      "\tgetting spearman correlation\n",
      "empirically determined Cneg cutoff: -0.039432711816334676  for FPR of: 0.0002\n",
      "empirically determined Cpos cutoff: 0.04197881774618101  for FPR of: 0.0002\n",
      "get_real_spear\n",
      "[0, 1300]\n",
      "working on 0 1300 vs 0 1300\n",
      "\tgetting spearman correlation\n",
      "      gene  pre_remove_feature  pre_remove_pathway  pre_remove_low_express  \\\n",
      "0        0               False               False                   False   \n",
      "1        1               False               False                   False   \n",
      "2        2               False               False                   False   \n",
      "3        3               False               False                   False   \n",
      "4        4               False               False                   False   \n",
      "...    ...                 ...                 ...                     ...   \n",
      "1295  1295               False               False                   False   \n",
      "1296  1296               False               False                   False   \n",
      "1297  1297               False               False                   False   \n",
      "1298  1298               False               False                   False   \n",
      "1299  1299               False               False                   False   \n",
      "\n",
      "      n_expressed  percent_expressed  non_zero_mean  num_neg  num_sig_neg  \\\n",
      "0           598.0           0.071190       2.066412    638.0        200.0   \n",
      "1           498.0           0.059286       2.348348    660.0        199.0   \n",
      "2           510.0           0.060714       2.151701    599.0        198.0   \n",
      "3           482.0           0.057381       2.267967    555.0        199.0   \n",
      "4           543.0           0.064643       2.351170    600.0        200.0   \n",
      "...           ...                ...            ...      ...          ...   \n",
      "1295       8400.0           1.000000      91.834415    812.0        756.0   \n",
      "1296       8400.0           1.000000      97.776039    817.0        761.0   \n",
      "1297       8400.0           1.000000      82.994536    800.0        754.0   \n",
      "1298       8400.0           1.000000      83.499544    803.0        754.0   \n",
      "1299       8400.0           1.000000      85.768422    804.0        755.0   \n",
      "\n",
      "      FP_hat       FDR  num_sig_pos_cor  selected  \n",
      "0     0.1276  0.000638            150.0      True  \n",
      "1     0.1320  0.000663            150.0      True  \n",
      "2     0.1198  0.000605            150.0      True  \n",
      "3     0.1110  0.000558            177.0      True  \n",
      "4     0.1200  0.000600            150.0      True  \n",
      "...      ...       ...              ...       ...  \n",
      "1295  0.1624  0.000215            402.0      True  \n",
      "1296  0.1634  0.000215            400.0      True  \n",
      "1297  0.1600  0.000212            404.0      True  \n",
      "1298  0.1606  0.000213            404.0      True  \n",
      "1299  0.1608  0.000213            404.0      True  \n",
      "\n",
      "[1300 rows x 13 columns]\n",
      "> starting haystack ...\n",
      "> entering array method ...\n",
      "> scaling coordinates ...\n",
      "> calculating feature stds ...\n",
      "> calculating grid points ...\n",
      "> calculating distance to cells ...\n",
      "> calculating densities ...\n",
      "> calculating Q dist ...\n",
      "> calculating KLD for 1300 features ...\n"
     ]
    },
    {
     "name": "stderr",
     "output_type": "stream",
     "text": [
      "100%|██████████████████████████████████████████████████████████████████████████████████████████████████████████████████████████████████████████████████████| 1300/1300 [00:01<00:00, 1001.66it/s]\n"
     ]
    },
    {
     "name": "stdout",
     "output_type": "stream",
     "text": [
      "> calculating feature's CV ...\n",
      "> selecting genes to randomize ...\n",
      "> calculating randomized KLD ...\n"
     ]
    },
    {
     "name": "stderr",
     "output_type": "stream",
     "text": [
      "100%|██████████████████████████████████████████████████████████████████████████████████████████████████████████████████████████████████████████████████████████| 100/100 [00:11<00:00,  8.78it/s]\n"
     ]
    },
    {
     "name": "stdout",
     "output_type": "stream",
     "text": [
      "> calculating P values ...\n",
      "> done.\n",
      "Gene number is 1300\n",
      "Cell number is 8400\n",
      "Start enrichment scoring\n",
      "Enrichment scoring complete\n",
      "Start enrichment scoring\n",
      "Enrichment scoring complete\n"
     ]
    },
    {
     "data": {
      "image/png": "[encoded data removed]",
      "text/plain": [
       "<Figure size 800x800 with 1 Axes>"
      ]
     },
     "metadata": {},
     "output_type": "display_data"
    },
    {
     "name": "stdout",
     "output_type": "stream",
     "text": [
      "Anti-correlation: AUC = 0.1087\n",
      "Gini: AUC = 1.0000\n",
      "schaystack: AUC = 0.3638\n",
      "Semitones: AUC = 0.2875\n"
     ]
    }
   ],
   "source": [
    "if __name__ == \"__main__\":\n",
    "    adata_test.var_names_make_unique()\n",
    "\n",
    "    # anticor\n",
    "    adata_anti = adata_test.copy()\n",
    "    sc.pp.normalize_total(adata_anti)\n",
    "    print('anti')\n",
    "    anti_cor_table = get_anti_cor_genes(\n",
    "        adata_anti.X.T,\n",
    "        adata_anti.var.index.tolist(),\n",
    "        species=\"hsapiens\",\n",
    "        pre_remove_pathways=[],\n",
    "        FPR=0.0002,\n",
    "        FDR=1/40\n",
    "    )\n",
    "    selected_table = anti_cor_table[anti_cor_table[\"selected\"]==True]\n",
    "    print(selected_table)\n",
    "\n",
    "    adata_anti.var = pd.concat([adata_anti.var,anti_cor_table], axis=1)\n",
    "\n",
    "    adata_anti.raw = adata_anti\n",
    "    adata_anti = adata_anti[:, selected_table.index]\n",
    "\n",
    "    # schaystack\n",
    "    adata_hs = adata_test.copy()\n",
    "    adata_hs.layers[\"counts\"] = adata_hs.X.copy()\n",
    "    sc.pp.normalize_total(adata_hs)\n",
    "    sc.pp.log1p(adata_hs)\n",
    "\n",
    "    adata_hs = dimension_reduce(adata_hs)\n",
    "    res = hs.haystack(adata_hs, coord=\"X_pca\")\n",
    "\n",
    "    # giniclust\n",
    "    adata_tem = adata_test.copy()\n",
    "    sc.pp.log1p(adata_tem)\n",
    "    gc.gini.calGini(adata_tem, min_gini_value=0.1, neighbors=3, p_value=0.05)\n",
    "    adata_gini = adata_tem.copy()\n",
    "    # semitones\n",
    "    adata_tem = adata_test.copy()\n",
    "    adata_tem.layers[\"counts\"] = adata_tem.X.copy()\n",
    "    sc.pp.normalize_total(adata_tem)\n",
    "    sc.pp.log1p(adata_tem)\n",
    "    adata_tem = dimension_reduce(adata_tem)\n",
    "    S = pairwise_kernels(adata_tem.obsm['X_pca'], metric=\"rbf\", gamma=8.6e-4)  # pariwise similarities\n",
    "    median = np.median(S, axis=0)\n",
    "    start = int(np.argmin(median))\n",
    "\n",
    "    dd_rcells = from_knn_dist(\n",
    "        X=adata_tem.obsm['X_pca'],  # search in the 20 PC space\n",
    "        n_ret=17,\n",
    "        start=start,  # provide the least similar cell\n",
    "        # metric=\"rbf\",  # define the (dis)similarity metric\n",
    "        metric_params={\"gamma\": 8.6e-4}\n",
    "        )  # provide the gamma\n",
    "\n",
    "    S = pairwise_similarities(\n",
    "        adata_tem.obsm['X_pca'],\n",
    "        query=dd_rcells,  \n",
    "        # metric=\"rbf\",  # metric as in notebook 1\n",
    "        metric_params={\"gamma\": 8.6e-4}\n",
    "        )\n",
    "    \n",
    "    escores = calculate_escores(adata_tem.X, query=dd_rcells, S=S)\n",
    "    P = permute(adata_test.X)\n",
    "    pscores = calculate_escores(P, query=dd_rcells, S=S)\n",
    "    interval = sig_interval(pscores, n_sds=8)\n",
    "    sigdict = sig_dictionary(escores, interval)\n",
    "    subset = list({x for v in sigdict.values() for x in v})\n",
    "    adata_semi = adata_test[:, subset].copy()\n",
    "\n",
    "    result = [-np.array(selected_table['FDR'].to_list()), adata_gini.var['gini_value'], -res.result['pval_adj'], escores.max(axis=1)]\n",
    "\n",
    "    ROC(label, result)\n"
   ]
  },
  {
   "cell_type": "code",
   "execution_count": 26,
   "id": "47276eb8",
   "metadata": {},
   "outputs": [],
   "source": [
    "label = [1]*900 + [0]*400"
   ]
  },
  {
   "cell_type": "code",
   "execution_count": 31,
   "id": "4c6ec1d3",
   "metadata": {},
   "outputs": [
    {
     "data": {
      "image/png": "[encoded data removed]",
      "text/plain": [
       "<Figure size 600x600 with 1 Axes>"
      ]
     },
     "metadata": {},
     "output_type": "display_data"
    },
    {
     "name": "stdout",
     "output_type": "stream",
     "text": [
      "AUC值为: 0.1087\n"
     ]
    }
   ],
   "source": [
    "ROC(label, -np.array(selected_table['FDR'].to_list()))"
   ]
  },
  {
   "cell_type": "code",
   "execution_count": 32,
   "id": "f7dee15f",
   "metadata": {},
   "outputs": [
    {
     "data": {
      "image/png": "[encoded data removed]",
      "text/plain": [
       "<Figure size 600x600 with 1 Axes>"
      ]
     },
     "metadata": {},
     "output_type": "display_data"
    },
    {
     "name": "stdout",
     "output_type": "stream",
     "text": [
      "AUC值为: 0.3638\n"
     ]
    }
   ],
   "source": [
    "ROC(label, -res.result['pval_adj'])"
   ]
  },
  {
   "cell_type": "code",
   "execution_count": 33,
   "id": "4e2e0e83",
   "metadata": {},
   "outputs": [
    {
     "data": {
      "image/png": "[encoded data removed]",
      "text/plain": [
       "<Figure size 600x600 with 1 Axes>"
      ]
     },
     "metadata": {},
     "output_type": "display_data"
    },
    {
     "name": "stdout",
     "output_type": "stream",
     "text": [
      "AUC值为: 1.0000\n"
     ]
    }
   ],
   "source": [
    "ROC(label, adata_gini.var['gini_value'])"
   ]
  },
  {
   "cell_type": "code",
   "execution_count": 34,
   "id": "c1b1bd8b",
   "metadata": {},
   "outputs": [
    {
     "data": {
      "image/png": "[encoded data removed]",
      "text/plain": [
       "<Figure size 600x600 with 1 Axes>"
      ]
     },
     "metadata": {},
     "output_type": "display_data"
    },
    {
     "name": "stdout",
     "output_type": "stream",
     "text": [
      "AUC值为: 0.2875\n"
     ]
    }
   ],
   "source": [
    "ROC(label, escores.max(axis=1))"
   ]
  }
 ],
 "metadata": {
  "kernelspec": {
   "display_name": "Python 3 (ipykernel)",
   "language": "python",
   "name": "python3"
  },
  "language_info": {
   "codemirror_mode": {
    "name": "ipython",
    "version": 3
   },
   "file_extension": ".py",
   "mimetype": "text/x-python",
   "name": "python",
   "nbconvert_exporter": "python",
   "pygments_lexer": "ipython3",
   "version": "3.9.0"
  }
 },
 "nbformat": 4,
 "nbformat_minor": 5
}
